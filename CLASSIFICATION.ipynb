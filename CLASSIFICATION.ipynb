{
 "cells": [
  {
   "cell_type": "markdown",
   "metadata": {},
   "source": [
    "# <center>CLASSIFICATION</center>\n",
    "\n",
    "## Binary Classification Problem :\n",
    "- ANTI-NATIONAL : 1\n",
    "- NON ANTI-NATIONAL : 0\n",
    "\n",
    "For classifying the webpages,we added a column / feature **CLASSIFY** which had values 0 or 1. "
   ]
  },
  {
   "cell_type": "markdown",
   "metadata": {},
   "source": [
    "## Import The Necessary Libraries"
   ]
  },
  {
   "cell_type": "code",
   "execution_count": 2,
   "metadata": {},
   "outputs": [],
   "source": [
    "from sklearn.model_selection import train_test_split\n",
    "import matplotlib.pyplot as plt\n",
    "%matplotlib inline\n",
    "import seaborn as sns\n",
    "import pandas as pd\n",
    "from sklearn.preprocessing import scale\n",
    "import numpy as np\n",
    "from sklearn.feature_extraction.text import CountVectorizer,TfidfVectorizer\n",
    "from sklearn.naive_bayes import MultinomialNB\n",
    "from sklearn.linear_model import LogisticRegression\n",
    "from sklearn.metrics import confusion_matrix \n",
    "from sklearn.metrics import accuracy_score\n",
    "from sklearn.metrics import roc_auc_score\n",
    "from sklearn.metrics import plot_roc_curve\n",
    "from sklearn.ensemble import RandomForestClassifier\n",
    "from sklearn.model_selection import cross_val_score\n",
    "from sklearn.model_selection import GridSearchCV\n",
    "from sklearn.preprocessing import LabelEncoder"
   ]
  },
  {
   "cell_type": "code",
   "execution_count": 45,
   "metadata": {},
   "outputs": [
    {
     "name": "stderr",
     "output_type": "stream",
     "text": [
      "E:\\ANACONDA\\lib\\site-packages\\ipykernel_launcher.py:3: FutureWarning: convert_objects is deprecated.  To re-infer data dtypes for object columns, use DataFrame.infer_objects()\n",
      "For all other conversions use the data-type specific converters pd.to_datetime, pd.to_timedelta and pd.to_numeric.\n",
      "  This is separate from the ipykernel package so we can avoid doing imports until\n"
     ]
    },
    {
     "data": {
      "text/html": [
       "<div>\n",
       "<style scoped>\n",
       "    .dataframe tbody tr th:only-of-type {\n",
       "        vertical-align: middle;\n",
       "    }\n",
       "\n",
       "    .dataframe tbody tr th {\n",
       "        vertical-align: top;\n",
       "    }\n",
       "\n",
       "    .dataframe thead th {\n",
       "        text-align: right;\n",
       "    }\n",
       "</style>\n",
       "<table border=\"1\" class=\"dataframe\">\n",
       "  <thead>\n",
       "    <tr style=\"text-align: right;\">\n",
       "      <th></th>\n",
       "      <th>DESCRIPTION</th>\n",
       "      <th>DATE</th>\n",
       "      <th>MONTH</th>\n",
       "      <th>YEAR</th>\n",
       "      <th>CITY</th>\n",
       "      <th>STATE</th>\n",
       "      <th>ZONE</th>\n",
       "      <th>CASUALITIES</th>\n",
       "      <th>NUMBER OF CASUALITIES</th>\n",
       "      <th>EQUIPMENTS</th>\n",
       "      <th>LITERACY</th>\n",
       "      <th>POPULATION</th>\n",
       "      <th>NUMBER OF INCIDENTS</th>\n",
       "      <th>GROWTH IN GDP</th>\n",
       "      <th>INFLATION</th>\n",
       "      <th>TERRORIST GROUP</th>\n",
       "      <th>CLASSIFY</th>\n",
       "    </tr>\n",
       "  </thead>\n",
       "  <tbody>\n",
       "    <tr>\n",
       "      <th>0</th>\n",
       "      <td>1993 blasts: Sanjay Dutt guilty under Arms Act...</td>\n",
       "      <td>2006-11-28</td>\n",
       "      <td>NOVEMBER</td>\n",
       "      <td>2006</td>\n",
       "      <td>---</td>\n",
       "      <td>---</td>\n",
       "      <td>---</td>\n",
       "      <td>No</td>\n",
       "      <td>0.0</td>\n",
       "      <td>---</td>\n",
       "      <td>NaN</td>\n",
       "      <td>NaN</td>\n",
       "      <td>167.0</td>\n",
       "      <td>9.3%</td>\n",
       "      <td>6.7%</td>\n",
       "      <td>DATA NOT AVAILABLE</td>\n",
       "      <td>1</td>\n",
       "    </tr>\n",
       "    <tr>\n",
       "      <th>1</th>\n",
       "      <td>Over 300 Stone Pelting Incidents in Kashmir Si...</td>\n",
       "      <td>2019-10-10</td>\n",
       "      <td>OCTOBER</td>\n",
       "      <td>2019</td>\n",
       "      <td>---</td>\n",
       "      <td>Jammu and Kashmir</td>\n",
       "      <td>North</td>\n",
       "      <td>No</td>\n",
       "      <td>0.0</td>\n",
       "      <td>STONE</td>\n",
       "      <td>68.74</td>\n",
       "      <td>NaN</td>\n",
       "      <td>NaN</td>\n",
       "      <td>DATA NOT AVAILABLE</td>\n",
       "      <td>DATA NOT AVAILABLE</td>\n",
       "      <td>DATA NOT AVAILABLE</td>\n",
       "      <td>1</td>\n",
       "    </tr>\n",
       "    <tr>\n",
       "      <th>2</th>\n",
       "      <td>\\r\\r\\r\\r\\r\\r\\r\\r\\n\\r\\r\\r\\r\\r\\r\\r\\r\\n\\r\\r\\r\\r\\r...</td>\n",
       "      <td>2007-10-22</td>\n",
       "      <td>OCTOBER</td>\n",
       "      <td>2007</td>\n",
       "      <td>---</td>\n",
       "      <td>---</td>\n",
       "      <td>---</td>\n",
       "      <td>No</td>\n",
       "      <td>0.0</td>\n",
       "      <td>---</td>\n",
       "      <td>NaN</td>\n",
       "      <td>NaN</td>\n",
       "      <td>149.0</td>\n",
       "      <td>9.8%</td>\n",
       "      <td>6.2%</td>\n",
       "      <td>DATA NOT AVAILABLE</td>\n",
       "      <td>0</td>\n",
       "    </tr>\n",
       "    <tr>\n",
       "      <th>3</th>\n",
       "      <td>At Least 100 Dead in India Terror Attacks.\\r\\r...</td>\n",
       "      <td>2008-11-26</td>\n",
       "      <td>NOVEMBER</td>\n",
       "      <td>2008</td>\n",
       "      <td>---</td>\n",
       "      <td>---</td>\n",
       "      <td>---</td>\n",
       "      <td>Yes</td>\n",
       "      <td>100.0</td>\n",
       "      <td>---</td>\n",
       "      <td>NaN</td>\n",
       "      <td>NaN</td>\n",
       "      <td>534.0</td>\n",
       "      <td>3.9%</td>\n",
       "      <td>9.1%</td>\n",
       "      <td>DATA NOT AVAILABLE</td>\n",
       "      <td>1</td>\n",
       "    </tr>\n",
       "    <tr>\n",
       "      <th>4</th>\n",
       "      <td>\\r\\r\\r\\r\\r\\r\\r\\r\\nTwo killed in first gun batt...</td>\n",
       "      <td>2019-08-21</td>\n",
       "      <td>AUGUST</td>\n",
       "      <td>2019</td>\n",
       "      <td>---</td>\n",
       "      <td>Jammu and Kashmir</td>\n",
       "      <td>North</td>\n",
       "      <td>Yes</td>\n",
       "      <td>2.0</td>\n",
       "      <td>gun</td>\n",
       "      <td>68.74</td>\n",
       "      <td>NaN</td>\n",
       "      <td>NaN</td>\n",
       "      <td>DATA NOT AVAILABLE</td>\n",
       "      <td>DATA NOT AVAILABLE</td>\n",
       "      <td>DATA NOT AVAILABLE</td>\n",
       "      <td>1</td>\n",
       "    </tr>\n",
       "  </tbody>\n",
       "</table>\n",
       "</div>"
      ],
      "text/plain": [
       "                                         DESCRIPTION        DATE     MONTH  \\\n",
       "0  1993 blasts: Sanjay Dutt guilty under Arms Act...  2006-11-28  NOVEMBER   \n",
       "1  Over 300 Stone Pelting Incidents in Kashmir Si...  2019-10-10   OCTOBER   \n",
       "2  \\r\\r\\r\\r\\r\\r\\r\\r\\n\\r\\r\\r\\r\\r\\r\\r\\r\\n\\r\\r\\r\\r\\r...  2007-10-22   OCTOBER   \n",
       "3  At Least 100 Dead in India Terror Attacks.\\r\\r...  2008-11-26  NOVEMBER   \n",
       "4  \\r\\r\\r\\r\\r\\r\\r\\r\\nTwo killed in first gun batt...  2019-08-21    AUGUST   \n",
       "\n",
       "   YEAR CITY              STATE   ZONE CASUALITIES  NUMBER OF CASUALITIES  \\\n",
       "0  2006  ---                ---    ---          No                    0.0   \n",
       "1  2019  ---  Jammu and Kashmir  North          No                    0.0   \n",
       "2  2007  ---                ---    ---          No                    0.0   \n",
       "3  2008  ---                ---    ---         Yes                  100.0   \n",
       "4  2019  ---  Jammu and Kashmir  North         Yes                    2.0   \n",
       "\n",
       "  EQUIPMENTS  LITERACY  POPULATION  NUMBER OF INCIDENTS       GROWTH IN GDP  \\\n",
       "0        ---       NaN         NaN                167.0                9.3%   \n",
       "1      STONE     68.74         NaN                  NaN  DATA NOT AVAILABLE   \n",
       "2        ---       NaN         NaN                149.0                9.8%   \n",
       "3        ---       NaN         NaN                534.0                3.9%   \n",
       "4        gun     68.74         NaN                  NaN  DATA NOT AVAILABLE   \n",
       "\n",
       "            INFLATION     TERRORIST GROUP  CLASSIFY  \n",
       "0                6.7%  DATA NOT AVAILABLE         1  \n",
       "1  DATA NOT AVAILABLE  DATA NOT AVAILABLE         1  \n",
       "2                6.2%  DATA NOT AVAILABLE         0  \n",
       "3                9.1%  DATA NOT AVAILABLE         1  \n",
       "4  DATA NOT AVAILABLE  DATA NOT AVAILABLE         1  "
      ]
     },
     "execution_count": 45,
     "metadata": {},
     "output_type": "execute_result"
    }
   ],
   "source": [
    "database = pd.read_csv('DATABASE.csv')\n",
    "del database['Unnamed: 0']\n",
    "database = database.convert_objects(convert_numeric = True)\n",
    "database.head()"
   ]
  },
  {
   "cell_type": "code",
   "execution_count": 7,
   "metadata": {},
   "outputs": [
    {
     "data": {
      "text/plain": [
       "<matplotlib.axes._subplots.AxesSubplot at 0x1e55f48d30>"
      ]
     },
     "execution_count": 7,
     "metadata": {},
     "output_type": "execute_result"
    },
    {
     "data": {
      "image/png": "[encoded data removed]",
      "text/plain": [
       "<Figure size 432x288 with 1 Axes>"
      ]
     },
     "metadata": {},
     "output_type": "display_data"
    }
   ],
   "source": [
    "sns.countplot(x = 'CLASSIFY',data = database,palette = 'hls')"
   ]
  },
  {
   "cell_type": "code",
   "execution_count": 50,
   "metadata": {},
   "outputs": [],
   "source": [
    "x_data = database['DESCRIPTION']\n",
    "y_data = database['CLASSIFY']"
   ]
  },
  {
   "cell_type": "markdown",
   "metadata": {},
   "source": [
    "- Single feature of **Description** is selected for classification"
   ]
  },
  {
   "cell_type": "markdown",
   "metadata": {},
   "source": [
    "### Term Frequency - Inverse Document Frequency\n",
    "- Used for encoding text data"
   ]
  },
  {
   "cell_type": "code",
   "execution_count": 51,
   "metadata": {},
   "outputs": [],
   "source": [
    "tfidf = TfidfVectorizer(stop_words= 'english', min_df = 1)\n",
    "\n",
    "x_train , x_test , y_train , y_test = train_test_split(x_data,y_data,test_size = 0.25,random_state = 2)\n",
    "\n",
    "x_train_tfidf = tfidf.fit_transform(x_train)\n",
    "\n",
    "x_test_tfidf = tfidf.transform(x_test)"
   ]
  },
  {
   "cell_type": "markdown",
   "metadata": {},
   "source": [
    "### Multinomial Naive Bayes Algoirthm :"
   ]
  },
  {
   "cell_type": "code",
   "execution_count": 52,
   "metadata": {},
   "outputs": [
    {
     "data": {
      "text/plain": [
       "MultinomialNB(alpha=3, class_prior=None, fit_prior=True)"
      ]
     },
     "execution_count": 52,
     "metadata": {},
     "output_type": "execute_result"
    }
   ],
   "source": [
    "mnb = MultinomialNB(alpha=3)\n",
    "mnb.fit(x_train_tfidf,y_train)"
   ]
  },
  {
   "cell_type": "code",
   "execution_count": 53,
   "metadata": {},
   "outputs": [
    {
     "data": {
      "text/plain": [
       "array([1, 1, 1, 0, 1, 1, 0, 1, 1, 1, 0, 0, 0, 1, 1, 0, 1, 1, 0, 1, 1, 1,\n",
       "       0, 1, 1], dtype=int64)"
      ]
     },
     "execution_count": 53,
     "metadata": {},
     "output_type": "execute_result"
    }
   ],
   "source": [
    "pred = mnb.predict(x_test_tfidf)\n",
    "pred"
   ]
  },
  {
   "cell_type": "code",
   "execution_count": 58,
   "metadata": {},
   "outputs": [
    {
     "data": {
      "text/plain": [
       "array([0, 1, 1, 0, 1, 0, 0, 1, 1, 1, 0, 0, 0, 1, 1, 0, 1, 1, 0, 1, 1, 1,\n",
       "       0, 0, 1], dtype=int64)"
      ]
     },
     "execution_count": 58,
     "metadata": {},
     "output_type": "execute_result"
    }
   ],
   "source": [
    "true_pred = np.array(y_test)\n",
    "true_pred"
   ]
  },
  {
   "cell_type": "code",
   "execution_count": 63,
   "metadata": {},
   "outputs": [
    {
     "name": "stdout",
     "output_type": "stream",
     "text": [
      "Accuracy :  0.88\n"
     ]
    }
   ],
   "source": [
    "print (\"Accuracy : \", accuracy_score(true_pred, pred))"
   ]
  },
  {
   "cell_type": "markdown",
   "metadata": {},
   "source": [
    "#### Cross Validating Hyperparameters & Tuning the model"
   ]
  },
  {
   "cell_type": "code",
   "execution_count": 64,
   "metadata": {},
   "outputs": [
    {
     "name": "stderr",
     "output_type": "stream",
     "text": [
      "E:\\ANACONDA\\lib\\site-packages\\sklearn\\naive_bayes.py:507: UserWarning: alpha too small will result in numeric errors, setting alpha = 1.0e-10\n",
      "  'setting alpha = %.1e' % _ALPHA_MIN)\n",
      "E:\\ANACONDA\\lib\\site-packages\\sklearn\\naive_bayes.py:507: UserWarning: alpha too small will result in numeric errors, setting alpha = 1.0e-10\n",
      "  'setting alpha = %.1e' % _ALPHA_MIN)\n",
      "E:\\ANACONDA\\lib\\site-packages\\sklearn\\naive_bayes.py:507: UserWarning: alpha too small will result in numeric errors, setting alpha = 1.0e-10\n",
      "  'setting alpha = %.1e' % _ALPHA_MIN)\n",
      "E:\\ANACONDA\\lib\\site-packages\\sklearn\\naive_bayes.py:507: UserWarning: alpha too small will result in numeric errors, setting alpha = 1.0e-10\n",
      "  'setting alpha = %.1e' % _ALPHA_MIN)\n",
      "E:\\ANACONDA\\lib\\site-packages\\sklearn\\naive_bayes.py:507: UserWarning: alpha too small will result in numeric errors, setting alpha = 1.0e-10\n",
      "  'setting alpha = %.1e' % _ALPHA_MIN)\n"
     ]
    },
    {
     "data": {
      "text/plain": [
       "GridSearchCV(cv=None, error_score=nan,\n",
       "             estimator=MultinomialNB(alpha=3, class_prior=None, fit_prior=True),\n",
       "             iid='deprecated', n_jobs=None, param_grid={'alpha': [0, 10]},\n",
       "             pre_dispatch='2*n_jobs', refit=True, return_train_score=False,\n",
       "             scoring=None, verbose=0)"
      ]
     },
     "execution_count": 64,
     "metadata": {},
     "output_type": "execute_result"
    }
   ],
   "source": [
    "parameters = {'alpha':[0,10]}\n",
    "clf = GridSearchCV(mnb,parameters)\n",
    "\n",
    "clf.fit(x_test_tfidf,y_test)"
   ]
  },
  {
   "cell_type": "markdown",
   "metadata": {},
   "source": [
    "- Tuned Hyperparamter **alpha** : 3"
   ]
  },
  {
   "cell_type": "code",
   "execution_count": 65,
   "metadata": {},
   "outputs": [
    {
     "data": {
      "text/plain": [
       "array([[ 8,  3],\n",
       "       [ 0, 14]], dtype=int64)"
      ]
     },
     "execution_count": 65,
     "metadata": {},
     "output_type": "execute_result"
    }
   ],
   "source": [
    "cm = confusion_matrix(true_pred, pred) \n",
    "cm"
   ]
  },
  {
   "cell_type": "code",
   "execution_count": 66,
   "metadata": {},
   "outputs": [
    {
     "data": {
      "text/plain": [
       "0.8636363636363636"
      ]
     },
     "execution_count": 66,
     "metadata": {},
     "output_type": "execute_result"
    }
   ],
   "source": [
    "roc_auc_score(y_test,pred)"
   ]
  },
  {
   "cell_type": "code",
   "execution_count": 67,
   "metadata": {},
   "outputs": [
    {
     "data": {
      "text/plain": [
       "<sklearn.metrics._plot.roc_curve.RocCurveDisplay at 0x1e58512fd0>"
      ]
     },
     "execution_count": 67,
     "metadata": {},
     "output_type": "execute_result"
    },
    {
     "data": {
      "image/png": "[encoded data removed]",
      "text/plain": [
       "<Figure size 432x288 with 1 Axes>"
      ]
     },
     "metadata": {},
     "output_type": "display_data"
    }
   ],
   "source": [
    "plot_roc_curve(mnb,x_test_tfidf,y_test)"
   ]
  },
  {
   "cell_type": "markdown",
   "metadata": {},
   "source": [
    "### Logistic Regression Algorithm :"
   ]
  },
  {
   "cell_type": "code",
   "execution_count": 146,
   "metadata": {},
   "outputs": [],
   "source": [
    "# INPUT FEATURES\n",
    "x = database.iloc[:,0].values \n",
    "\n",
    "# TARGET VALUES\n",
    "y = database.iloc[:,16].values"
   ]
  },
  {
   "cell_type": "code",
   "execution_count": 148,
   "metadata": {},
   "outputs": [],
   "source": [
    "x_train, x_test, y_train, y_test = train_test_split(x, y, test_size = 0.25, random_state = 2)"
   ]
  },
  {
   "cell_type": "code",
   "execution_count": 151,
   "metadata": {},
   "outputs": [],
   "source": [
    "tfidf = TfidfVectorizer(stop_words= 'english', min_df = 1)\n",
    "\n",
    "x_train_tfidf = tfidf.fit_transform(x_train)\n",
    "x_test_tfidf = tfidf.transform(x_test)"
   ]
  },
  {
   "cell_type": "code",
   "execution_count": 119,
   "metadata": {},
   "outputs": [
    {
     "data": {
      "text/plain": [
       "array([0, 1, 1, 0, 1, 1, 0, 1, 1, 1, 0, 0, 0, 1, 1, 0, 1, 0, 0, 0, 1, 1,\n",
       "       0, 1, 1], dtype=int64)"
      ]
     },
     "execution_count": 119,
     "metadata": {},
     "output_type": "execute_result"
    }
   ],
   "source": [
    "classifier = LogisticRegression(random_state = 0,C=1000,penalty= 'l2') \n",
    "classifier.fit(x_train_tfidf, y_train) \n",
    "\n",
    "y_pred = classifier.predict(x_test_tfidf) \n",
    "y_pred"
   ]
  },
  {
   "cell_type": "markdown",
   "metadata": {},
   "source": [
    "#### Cross Validating Hyperparameters & Tuning the model"
   ]
  },
  {
   "cell_type": "code",
   "execution_count": null,
   "metadata": {},
   "outputs": [],
   "source": [
    "penalty = ['l1', 'l2']\n",
    "\n",
    "C = [0,10,100,1000]\n",
    "\n",
    "hyperparameters = dict(C=C, penalty=penalty)\n",
    "\n",
    "clf = GridSearchCV(classifier, hyperparameters, cv=10,n_jobs = -1)\n",
    "best_model = clf.fit(x_test_tfidf, y_test)\n",
    "best_model\n",
    "\n",
    "accuracy = clf.best_score_\n",
    "accuracy\n",
    "\n",
    "clf.best_params_"
   ]
  },
  {
   "cell_type": "code",
   "execution_count": 91,
   "metadata": {},
   "outputs": [
    {
     "name": "stdout",
     "output_type": "stream",
     "text": [
      "0.7892857142857143\n"
     ]
    }
   ],
   "source": [
    "classifier = LogisticRegression(random_state = 0,C=1000,penalty= 'l2') \n",
    "print(cross_val_score(classifier,x_train_tfidf,y_train,cv = 10,scoring = 'accuracy').mean())"
   ]
  },
  {
   "cell_type": "code",
   "execution_count": 92,
   "metadata": {},
   "outputs": [
    {
     "name": "stdout",
     "output_type": "stream",
     "text": [
      "0.75\n"
     ]
    }
   ],
   "source": [
    "print(cross_val_score(mnb,x_train_tfidf,y_train,cv = 10,scoring = 'accuracy').mean())"
   ]
  },
  {
   "cell_type": "code",
   "execution_count": 130,
   "metadata": {},
   "outputs": [
    {
     "name": "stdout",
     "output_type": "stream",
     "text": [
      "[0 1 1 0 1 0 0 1 1 1 0 0 0 1 1 0 1 1 0 1 1 1 0 0 1]\n",
      "[[ 9  2]\n",
      " [ 2 12]]\n"
     ]
    }
   ],
   "source": [
    "actual_pred = np.array(y_test)\n",
    "print(actual_pred)\n",
    "\n",
    "cm = confusion_matrix(y_test, y_pred) \n",
    "\n",
    "print(cm)"
   ]
  },
  {
   "cell_type": "code",
   "execution_count": 131,
   "metadata": {},
   "outputs": [
    {
     "name": "stdout",
     "output_type": "stream",
     "text": [
      "Accuracy :  0.84\n",
      "0.8376623376623377\n"
     ]
    },
    {
     "data": {
      "image/png": "[encoded data removed]",
      "text/plain": [
       "<Figure size 432x288 with 1 Axes>"
      ]
     },
     "metadata": {},
     "output_type": "display_data"
    }
   ],
   "source": [
    "print (\"Accuracy : \", accuracy_score(y_test, y_pred)) \n",
    "print(roc_auc_score(y_test,y_pred))\n",
    "logreg = plot_roc_curve(classifier, x_test_tfidf, y_test)\n",
    "plt.show()"
   ]
  },
  {
   "cell_type": "markdown",
   "metadata": {},
   "source": [
    "# <center>DEMONSTRATION</center>"
   ]
  },
  {
   "cell_type": "code",
   "execution_count": 134,
   "metadata": {},
   "outputs": [
    {
     "data": {
      "text/html": [
       "<div>\n",
       "<style scoped>\n",
       "    .dataframe tbody tr th:only-of-type {\n",
       "        vertical-align: middle;\n",
       "    }\n",
       "\n",
       "    .dataframe tbody tr th {\n",
       "        vertical-align: top;\n",
       "    }\n",
       "\n",
       "    .dataframe thead th {\n",
       "        text-align: right;\n",
       "    }\n",
       "</style>\n",
       "<table border=\"1\" class=\"dataframe\">\n",
       "  <thead>\n",
       "    <tr style=\"text-align: right;\">\n",
       "      <th></th>\n",
       "      <th>DESCRIPTION</th>\n",
       "      <th>DATE</th>\n",
       "      <th>MONTH</th>\n",
       "      <th>YEAR</th>\n",
       "      <th>CITY</th>\n",
       "      <th>STATE</th>\n",
       "      <th>ZONE</th>\n",
       "      <th>CASUALTIES</th>\n",
       "      <th>NUMBER OF CASUALTIES</th>\n",
       "      <th>EQUIPMENTS</th>\n",
       "      <th>LITERACY</th>\n",
       "      <th>POPULATION</th>\n",
       "      <th>NUMBER OF INCIDENTS</th>\n",
       "      <th>GROWTH IN GDP</th>\n",
       "      <th>INFLATION</th>\n",
       "      <th>TERRORIST GROUP</th>\n",
       "    </tr>\n",
       "  </thead>\n",
       "  <tbody>\n",
       "    <tr>\n",
       "      <th>0</th>\n",
       "      <td>9 jawans injured in IED blast in Pulwama.An ar...</td>\n",
       "      <td>2019-06-17 00:00:00</td>\n",
       "      <td>JUNE</td>\n",
       "      <td>2019</td>\n",
       "      <td>Pulwama</td>\n",
       "      <td>Jammu and Kashmir</td>\n",
       "      <td>North</td>\n",
       "      <td>Yes</td>\n",
       "      <td>9</td>\n",
       "      <td>IED</td>\n",
       "      <td>68.74</td>\n",
       "      <td>570060</td>\n",
       "      <td>DATA NOT AVAILABLE</td>\n",
       "      <td>DATA NOT AVAILABLE</td>\n",
       "      <td>DATA NOT AVAILABLE</td>\n",
       "      <td>DATA NOT AVAILABLE</td>\n",
       "    </tr>\n",
       "    <tr>\n",
       "      <th>1</th>\n",
       "      <td>Our orbiter located Vikram lander first: Isro ...</td>\n",
       "      <td>2019-12-04 00:00:00</td>\n",
       "      <td>DECEMBER</td>\n",
       "      <td>2019</td>\n",
       "      <td>---</td>\n",
       "      <td>---</td>\n",
       "      <td>---</td>\n",
       "      <td>No</td>\n",
       "      <td>0</td>\n",
       "      <td>---</td>\n",
       "      <td>DATA NOT AVAILABLE</td>\n",
       "      <td>DATA NOT AVAILABLE</td>\n",
       "      <td>DATA NOT AVAILABLE</td>\n",
       "      <td>DATA NOT AVAILABLE</td>\n",
       "      <td>DATA NOT AVAILABLE</td>\n",
       "      <td>DATA NOT AVAILABLE</td>\n",
       "    </tr>\n",
       "  </tbody>\n",
       "</table>\n",
       "</div>"
      ],
      "text/plain": [
       "                                         DESCRIPTION                 DATE  \\\n",
       "0  9 jawans injured in IED blast in Pulwama.An ar...  2019-06-17 00:00:00   \n",
       "1  Our orbiter located Vikram lander first: Isro ...  2019-12-04 00:00:00   \n",
       "\n",
       "      MONTH  YEAR     CITY              STATE   ZONE CASUALTIES  \\\n",
       "0      JUNE  2019  Pulwama  Jammu and Kashmir  North        Yes   \n",
       "1  DECEMBER  2019      ---                ---    ---         No   \n",
       "\n",
       "   NUMBER OF CASUALTIES EQUIPMENTS            LITERACY          POPULATION  \\\n",
       "0                     9        IED               68.74              570060   \n",
       "1                     0        ---  DATA NOT AVAILABLE  DATA NOT AVAILABLE   \n",
       "\n",
       "  NUMBER OF INCIDENTS       GROWTH IN GDP           INFLATION  \\\n",
       "0  DATA NOT AVAILABLE  DATA NOT AVAILABLE  DATA NOT AVAILABLE   \n",
       "1  DATA NOT AVAILABLE  DATA NOT AVAILABLE  DATA NOT AVAILABLE   \n",
       "\n",
       "      TERRORIST GROUP  \n",
       "0  DATA NOT AVAILABLE  \n",
       "1  DATA NOT AVAILABLE  "
      ]
     },
     "execution_count": 134,
     "metadata": {},
     "output_type": "execute_result"
    }
   ],
   "source": [
    "data = pd.read_csv('DEMO.csv')\n",
    "del data['Unnamed: 0']\n",
    "data.head()"
   ]
  },
  {
   "cell_type": "code",
   "execution_count": 158,
   "metadata": {},
   "outputs": [],
   "source": [
    "x = data['DESCRIPTION']"
   ]
  },
  {
   "cell_type": "code",
   "execution_count": 161,
   "metadata": {},
   "outputs": [],
   "source": [
    "x_tfidf = tfidf.transform(x)"
   ]
  },
  {
   "cell_type": "markdown",
   "metadata": {},
   "source": [
    "## <center>Webpage Screenshot Of Pulwama Incident</center>"
   ]
  },
  {
   "cell_type": "markdown",
   "metadata": {},
   "source": [
    "<img src = \"Images/PULWAMA_INCIDENT.png\">"
   ]
  },
  {
   "cell_type": "markdown",
   "metadata": {},
   "source": [
    "## <center>Webpage Screenshot Of ISRO news</center>"
   ]
  },
  {
   "cell_type": "markdown",
   "metadata": {},
   "source": [
    "<img src = \"Images/ISRO_NEWS_ARTICLE.png\">"
   ]
  },
  {
   "cell_type": "markdown",
   "metadata": {},
   "source": [
    "###  <center>Model Prediction</center>"
   ]
  },
  {
   "cell_type": "code",
   "execution_count": 164,
   "metadata": {},
   "outputs": [
    {
     "data": {
      "text/plain": [
       "array([1, 0], dtype=int64)"
      ]
     },
     "execution_count": 164,
     "metadata": {},
     "output_type": "execute_result"
    }
   ],
   "source": [
    "prediction = classifier.predict(x1_tfidf) \n",
    "prediction"
   ]
  },
  {
   "cell_type": "markdown",
   "metadata": {},
   "source": [
    "# <center>END</center>"
   ]
  }
 ],
 "metadata": {
  "kernelspec": {
   "display_name": "Python 3",
   "language": "python",
   "name": "python3"
  },
  "language_info": {
   "codemirror_mode": {
    "name": "ipython",
    "version": 3
   },
   "file_extension": ".py",
   "mimetype": "text/x-python",
   "name": "python",
   "nbconvert_exporter": "python",
   "pygments_lexer": "ipython3",
   "version": "3.7.6"
  }
 },
 "nbformat": 4,
 "nbformat_minor": 2
}
