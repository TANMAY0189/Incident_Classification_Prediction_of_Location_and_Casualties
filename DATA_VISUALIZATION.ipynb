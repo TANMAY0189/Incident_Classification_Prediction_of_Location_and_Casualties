{
 "cells": [
  {
   "cell_type": "markdown",
   "metadata": {},
   "source": [
    "# <center>DATA VISUALIZATION</center>"
   ]
  },
  {
   "cell_type": "markdown",
   "metadata": {},
   "source": [
    "- All the visualizations are carried out on the **database** created from data scraping.\n",
    "- All the visualizations are created using **Matlab**."
   ]
  },
  {
   "cell_type": "markdown",
   "metadata": {},
   "source": [
    "### <center>Statewise Distribution of Incidents</center>\n",
    "\n",
    "<img src = 'Images\\Statewise Distribution.jpg'>"
   ]
  },
  {
   "cell_type": "markdown",
   "metadata": {},
   "source": [
    "### <center>Population of the State / Union Territory</center>\n",
    "\n",
    "<img src = 'Images\\Population_Statewise.jpg'>"
   ]
  },
  {
   "cell_type": "markdown",
   "metadata": {},
   "source": [
    "### <center>Literacy Rate of Each State / Union Territory</center> \n",
    "\n",
    "<img src = 'Images\\Literacy Rate.jpg'>"
   ]
  },
  {
   "cell_type": "markdown",
   "metadata": {},
   "source": [
    "### <center>Zones Targeted for Anti-National Incidents</center>\n",
    "\n",
    "<img src = 'Images\\Zones_Incidents_Pie.jpg'>"
   ]
  },
  {
   "cell_type": "markdown",
   "metadata": {},
   "source": [
    "### <center>Deaths due to attacks over the years</center>\n",
    "\n",
    "<img src = \"Images/Deaths_vs_Years.jpg\">"
   ]
  },
  {
   "cell_type": "markdown",
   "metadata": {},
   "source": [
    "### <center>Injuries due to attacks over the years</center>\n",
    "\n",
    "<img src = 'Images\\Injuries_vs_Years.jpg'>"
   ]
  },
  {
   "cell_type": "markdown",
   "metadata": {},
   "source": [
    "### <center>Number of Incidents over the years</center>\n",
    "\n",
    "<img src = 'Images\\NoOfIncidents_vs_Years.jpg'>"
   ]
  },
  {
   "cell_type": "markdown",
   "metadata": {},
   "source": [
    "### <center>Inflation Rate over the Years</center>\n",
    "\n",
    "<img src = \"Images\\Inflation Rate.jpg\">"
   ]
  },
  {
   "cell_type": "markdown",
   "metadata": {},
   "source": [
    "### <center>Combined Visualization</center>\n",
    "\n",
    "<img src = 'Images\\NoOfIncidents_Injuries_Deaths.jpg'>"
   ]
  },
  {
   "cell_type": "markdown",
   "metadata": {},
   "source": [
    "### <center>Month Targeted for Anti-National Incidents</center>\n",
    "\n",
    "<img src = 'Images\\Monthwise_Distribution_of_Incidents.jpg'>"
   ]
  },
  {
   "cell_type": "markdown",
   "metadata": {},
   "source": [
    "### <center>Weapons used in Anti-National Incidents</center>\n",
    "\n",
    "<img src = 'Images\\Preferred Weapons_Pie.jpg'>"
   ]
  },
  {
   "cell_type": "markdown",
   "metadata": {},
   "source": [
    "# <center>END</center>"
   ]
  }
 ],
 "metadata": {
  "kernelspec": {
   "display_name": "Python 3",
   "language": "python",
   "name": "python3"
  },
  "language_info": {
   "codemirror_mode": {
    "name": "ipython",
    "version": 3
   },
   "file_extension": ".py",
   "mimetype": "text/x-python",
   "name": "python",
   "nbconvert_exporter": "python",
   "pygments_lexer": "ipython3",
   "version": "3.7.6"
  }
 },
 "nbformat": 4,
 "nbformat_minor": 2
}
